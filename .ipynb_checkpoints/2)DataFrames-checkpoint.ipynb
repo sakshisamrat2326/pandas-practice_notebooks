{
 "cells": [
  {
   "cell_type": "code",
   "execution_count": 20,
   "id": "f151009a-ea3b-4a60-9236-911c8e1d1a60",
   "metadata": {},
   "outputs": [],
   "source": [
    "import numpy as np\n",
    "import pandas as pd"
   ]
  },
  {
   "cell_type": "markdown",
   "id": "f74185fc-df92-40e9-9979-a50b3289c241",
   "metadata": {},
   "source": [
    "<h2 style=\"color:#ffee58;\"> I]📝Creating DataFrames</h2>\n",
    "\n",
    "- Multiple Series Combined together forms -> DataFrames"
   ]
  },
  {
   "cell_type": "markdown",
   "id": "62339a24-a95b-4c96-8321-8063c87ee527",
   "metadata": {},
   "source": [
    "\n",
    "<h3 style=\"color:#27ae60;\">📁 1.Using Dictionary </h3>\n",
    "\n",
    "=> we have provided column names(headers) as \"name\",\"Age\",\"Department\",\"Salary\" [[Key]]]"
   ]
  },
  {
   "cell_type": "code",
   "execution_count": 21,
   "id": "3ec8c46b-c3ff-4560-87af-a38ff13cbfa4",
   "metadata": {},
   "outputs": [
    {
     "name": "stdout",
     "output_type": "stream",
     "text": [
      "    Name  Age      Department  Salary\n",
      "0   Amit   25  Data Analytics   50000\n",
      "1  Priya   28       Marketing   55000\n",
      "2  Rahul   22         Finance   48000\n",
      "3  Sneha   30              HR   60000\n"
     ]
    }
   ],
   "source": [
    "\n",
    "data = {\n",
    "    \"Name\": [\"Amit\", \"Priya\", \"Rahul\", \"Sneha\"],\n",
    "    \"Age\": [25, 28, 22, 30],\n",
    "    \"Department\": [\"Data Analytics\", \"Marketing\", \"Finance\", \"HR\"],\n",
    "    \"Salary\": [50000, 55000, 48000, 60000]\n",
    "}\n",
    "\n",
    "# Creating DataFrame\n",
    "df = pd.DataFrame(data)\n",
    "\n",
    "print(df)\n",
    "#Name is one series, Age is one series\n"
   ]
  },
  {
   "cell_type": "markdown",
   "id": "cbab0876-c6da-4f31-a873-523747a215f0",
   "metadata": {},
   "source": [
    "\n",
    "<h3 style=\"color:#27ae60;\">📁 2.Using Lists </h3>\n",
    "=> we're not providing column name implicitly\n",
    "=> headers default (0,1,2..)"
   ]
  },
  {
   "cell_type": "code",
   "execution_count": 22,
   "id": "9e42dde5-3044-4150-8dd8-e55a59e5468b",
   "metadata": {
    "scrolled": true
   },
   "outputs": [
    {
     "data": {
      "text/html": [
       "<div>\n",
       "<style scoped>\n",
       "    .dataframe tbody tr th:only-of-type {\n",
       "        vertical-align: middle;\n",
       "    }\n",
       "\n",
       "    .dataframe tbody tr th {\n",
       "        vertical-align: top;\n",
       "    }\n",
       "\n",
       "    .dataframe thead th {\n",
       "        text-align: right;\n",
       "    }\n",
       "</style>\n",
       "<table border=\"1\" class=\"dataframe\">\n",
       "  <thead>\n",
       "    <tr style=\"text-align: right;\">\n",
       "      <th></th>\n",
       "      <th>0</th>\n",
       "      <th>1</th>\n",
       "      <th>2</th>\n",
       "      <th>3</th>\n",
       "    </tr>\n",
       "  </thead>\n",
       "  <tbody>\n",
       "    <tr>\n",
       "      <th>0</th>\n",
       "      <td>Amit</td>\n",
       "      <td>25</td>\n",
       "      <td>Data Analytics</td>\n",
       "      <td>50000</td>\n",
       "    </tr>\n",
       "    <tr>\n",
       "      <th>1</th>\n",
       "      <td>Priya</td>\n",
       "      <td>28</td>\n",
       "      <td>Marketing</td>\n",
       "      <td>55000</td>\n",
       "    </tr>\n",
       "    <tr>\n",
       "      <th>2</th>\n",
       "      <td>Rahul</td>\n",
       "      <td>22</td>\n",
       "      <td>Finance</td>\n",
       "      <td>48000</td>\n",
       "    </tr>\n",
       "    <tr>\n",
       "      <th>3</th>\n",
       "      <td>Sneha</td>\n",
       "      <td>30</td>\n",
       "      <td>HR</td>\n",
       "      <td>60000</td>\n",
       "    </tr>\n",
       "  </tbody>\n",
       "</table>\n",
       "</div>"
      ],
      "text/plain": [
       "       0   1               2      3\n",
       "0   Amit  25  Data Analytics  50000\n",
       "1  Priya  28       Marketing  55000\n",
       "2  Rahul  22         Finance  48000\n",
       "3  Sneha  30              HR  60000"
      ]
     },
     "execution_count": 22,
     "metadata": {},
     "output_type": "execute_result"
    }
   ],
   "source": [
    "# Sample list of lists \n",
    "data_list = [\n",
    "    [\"Amit\", 25, \"Data Analytics\", 50000],\n",
    "    [\"Priya\", 28, \"Marketing\", 55000],\n",
    "    [\"Rahul\", 22, \"Finance\", 48000],\n",
    "    [\"Sneha\", 30, \"HR\", 60000]\n",
    "]\n",
    "df2 = pd.DataFrame(data_list)\n",
    "df2"
   ]
  },
  {
   "cell_type": "markdown",
   "id": "8ee90e79-770c-4ffc-a843-3818c4c05eb2",
   "metadata": {},
   "source": [
    "<h6 style=\"color:#f39c12; font-size:22px;\">📝Adding column names Manually</h6>"
   ]
  },
  {
   "cell_type": "code",
   "execution_count": 26,
   "id": "91e63737-4bc2-4af2-9711-9a5d1f52d4b5",
   "metadata": {},
   "outputs": [
    {
     "data": {
      "text/html": [
       "<div>\n",
       "<style scoped>\n",
       "    .dataframe tbody tr th:only-of-type {\n",
       "        vertical-align: middle;\n",
       "    }\n",
       "\n",
       "    .dataframe tbody tr th {\n",
       "        vertical-align: top;\n",
       "    }\n",
       "\n",
       "    .dataframe thead th {\n",
       "        text-align: right;\n",
       "    }\n",
       "</style>\n",
       "<table border=\"1\" class=\"dataframe\">\n",
       "  <thead>\n",
       "    <tr style=\"text-align: right;\">\n",
       "      <th></th>\n",
       "      <th>Name</th>\n",
       "      <th>Age</th>\n",
       "      <th>Department</th>\n",
       "      <th>Salary</th>\n",
       "    </tr>\n",
       "  </thead>\n",
       "  <tbody>\n",
       "    <tr>\n",
       "      <th>0</th>\n",
       "      <td>Amit</td>\n",
       "      <td>25</td>\n",
       "      <td>Data Analytics</td>\n",
       "      <td>50000</td>\n",
       "    </tr>\n",
       "    <tr>\n",
       "      <th>1</th>\n",
       "      <td>Priya</td>\n",
       "      <td>28</td>\n",
       "      <td>Marketing</td>\n",
       "      <td>55000</td>\n",
       "    </tr>\n",
       "    <tr>\n",
       "      <th>2</th>\n",
       "      <td>Rahul</td>\n",
       "      <td>22</td>\n",
       "      <td>Finance</td>\n",
       "      <td>48000</td>\n",
       "    </tr>\n",
       "    <tr>\n",
       "      <th>3</th>\n",
       "      <td>Sneha</td>\n",
       "      <td>30</td>\n",
       "      <td>HR</td>\n",
       "      <td>60000</td>\n",
       "    </tr>\n",
       "  </tbody>\n",
       "</table>\n",
       "</div>"
      ],
      "text/plain": [
       "    Name  Age      Department  Salary\n",
       "0   Amit   25  Data Analytics   50000\n",
       "1  Priya   28       Marketing   55000\n",
       "2  Rahul   22         Finance   48000\n",
       "3  Sneha   30              HR   60000"
      ]
     },
     "execution_count": 26,
     "metadata": {},
     "output_type": "execute_result"
    }
   ],
   "source": [
    "#Adding column names Manually\n",
    "df2= pd.DataFrame(data_list)\n",
    "columns=[\"Name\",\"Age\",\"Department\",\"Salary\"]\n",
    "df2= pd.DataFrame(data_list,columns=columns) #columns=>keyword argument\n",
    "df2"
   ]
  },
  {
   "cell_type": "markdown",
   "id": "f157eaa1-9a45-43b1-a608-daf63c2fb78e",
   "metadata": {},
   "source": [
    "<h2 style=\"color:#ffee58;\"> II]📝 Selection & Indexing of Columns </h2>"
   ]
  },
  {
   "cell_type": "code",
   "execution_count": 27,
   "id": "feb05fea-0de1-40ab-a4bf-fad9c14afe1e",
   "metadata": {},
   "outputs": [
    {
     "data": {
      "text/html": [
       "<div>\n",
       "<style scoped>\n",
       "    .dataframe tbody tr th:only-of-type {\n",
       "        vertical-align: middle;\n",
       "    }\n",
       "\n",
       "    .dataframe tbody tr th {\n",
       "        vertical-align: top;\n",
       "    }\n",
       "\n",
       "    .dataframe thead th {\n",
       "        text-align: right;\n",
       "    }\n",
       "</style>\n",
       "<table border=\"1\" class=\"dataframe\">\n",
       "  <thead>\n",
       "    <tr style=\"text-align: right;\">\n",
       "      <th></th>\n",
       "      <th>Name</th>\n",
       "      <th>Age</th>\n",
       "      <th>Department</th>\n",
       "      <th>Salary</th>\n",
       "    </tr>\n",
       "  </thead>\n",
       "  <tbody>\n",
       "    <tr>\n",
       "      <th>0</th>\n",
       "      <td>Amit</td>\n",
       "      <td>25</td>\n",
       "      <td>Data Analytics</td>\n",
       "      <td>50000</td>\n",
       "    </tr>\n",
       "    <tr>\n",
       "      <th>1</th>\n",
       "      <td>Priya</td>\n",
       "      <td>28</td>\n",
       "      <td>Marketing</td>\n",
       "      <td>55000</td>\n",
       "    </tr>\n",
       "    <tr>\n",
       "      <th>2</th>\n",
       "      <td>Rahul</td>\n",
       "      <td>22</td>\n",
       "      <td>Finance</td>\n",
       "      <td>48000</td>\n",
       "    </tr>\n",
       "    <tr>\n",
       "      <th>3</th>\n",
       "      <td>Sneha</td>\n",
       "      <td>30</td>\n",
       "      <td>HR</td>\n",
       "      <td>60000</td>\n",
       "    </tr>\n",
       "  </tbody>\n",
       "</table>\n",
       "</div>"
      ],
      "text/plain": [
       "    Name  Age      Department  Salary\n",
       "0   Amit   25  Data Analytics   50000\n",
       "1  Priya   28       Marketing   55000\n",
       "2  Rahul   22         Finance   48000\n",
       "3  Sneha   30              HR   60000"
      ]
     },
     "execution_count": 27,
     "metadata": {},
     "output_type": "execute_result"
    }
   ],
   "source": [
    "df2"
   ]
  },
  {
   "cell_type": "code",
   "execution_count": 34,
   "id": "ddecb41f-4fef-4686-82e0-e67da760e810",
   "metadata": {},
   "outputs": [
    {
     "data": {
      "text/plain": [
       "0     Amit\n",
       "1    Priya\n",
       "2    Rahul\n",
       "3    Sneha\n",
       "Name: Name, dtype: object"
      ]
     },
     "execution_count": 34,
     "metadata": {},
     "output_type": "execute_result"
    }
   ],
   "source": [
    "# df2[0] => wrong coz indexing doesn't work here we have to give names\n",
    "df2['Name'] #DataFarme['target_column'] , like list"
   ]
  },
  {
   "cell_type": "markdown",
   "id": "aa6f139a-3485-4a65-8a2b-26840b7345dc",
   "metadata": {},
   "source": [
    "# Targeting two/more columns simultaneously => List of list [[]]"
   ]
  },
  {
   "cell_type": "code",
   "execution_count": 33,
   "id": "a7738178-e0b3-4c24-883a-b6675593e152",
   "metadata": {},
   "outputs": [
    {
     "data": {
      "text/html": [
       "<div>\n",
       "<style scoped>\n",
       "    .dataframe tbody tr th:only-of-type {\n",
       "        vertical-align: middle;\n",
       "    }\n",
       "\n",
       "    .dataframe tbody tr th {\n",
       "        vertical-align: top;\n",
       "    }\n",
       "\n",
       "    .dataframe thead th {\n",
       "        text-align: right;\n",
       "    }\n",
       "</style>\n",
       "<table border=\"1\" class=\"dataframe\">\n",
       "  <thead>\n",
       "    <tr style=\"text-align: right;\">\n",
       "      <th></th>\n",
       "      <th>Name</th>\n",
       "      <th>Age</th>\n",
       "    </tr>\n",
       "  </thead>\n",
       "  <tbody>\n",
       "    <tr>\n",
       "      <th>0</th>\n",
       "      <td>Amit</td>\n",
       "      <td>25</td>\n",
       "    </tr>\n",
       "    <tr>\n",
       "      <th>1</th>\n",
       "      <td>Priya</td>\n",
       "      <td>28</td>\n",
       "    </tr>\n",
       "    <tr>\n",
       "      <th>2</th>\n",
       "      <td>Rahul</td>\n",
       "      <td>22</td>\n",
       "    </tr>\n",
       "    <tr>\n",
       "      <th>3</th>\n",
       "      <td>Sneha</td>\n",
       "      <td>30</td>\n",
       "    </tr>\n",
       "  </tbody>\n",
       "</table>\n",
       "</div>"
      ],
      "text/plain": [
       "    Name  Age\n",
       "0   Amit   25\n",
       "1  Priya   28\n",
       "2  Rahul   22\n",
       "3  Sneha   30"
      ]
     },
     "execution_count": 33,
     "metadata": {},
     "output_type": "execute_result"
    }
   ],
   "source": [
    "df[[\"Name\",\"Age\"]]"
   ]
  },
  {
   "cell_type": "markdown",
   "id": "8131b2e1-cc50-4627-bb00-653d3c6bfc3f",
   "metadata": {},
   "source": [
    "<h2 style=\"color:#ffee58;\"> III]📝 Creating new Columns </h2>"
   ]
  },
  {
   "cell_type": "code",
   "execution_count": 42,
   "id": "5ce21674-4b2d-4868-9c0e-fbdf07c689e1",
   "metadata": {},
   "outputs": [
    {
     "data": {
      "text/html": [
       "<div>\n",
       "<style scoped>\n",
       "    .dataframe tbody tr th:only-of-type {\n",
       "        vertical-align: middle;\n",
       "    }\n",
       "\n",
       "    .dataframe tbody tr th {\n",
       "        vertical-align: top;\n",
       "    }\n",
       "\n",
       "    .dataframe thead th {\n",
       "        text-align: right;\n",
       "    }\n",
       "</style>\n",
       "<table border=\"1\" class=\"dataframe\">\n",
       "  <thead>\n",
       "    <tr style=\"text-align: right;\">\n",
       "      <th></th>\n",
       "      <th>Name</th>\n",
       "      <th>Age</th>\n",
       "      <th>Department</th>\n",
       "      <th>Salary</th>\n",
       "      <th>City</th>\n",
       "    </tr>\n",
       "  </thead>\n",
       "  <tbody>\n",
       "    <tr>\n",
       "      <th>0</th>\n",
       "      <td>Amit</td>\n",
       "      <td>25</td>\n",
       "      <td>Data Analytics</td>\n",
       "      <td>50000</td>\n",
       "      <td>Arizona</td>\n",
       "    </tr>\n",
       "    <tr>\n",
       "      <th>1</th>\n",
       "      <td>Priya</td>\n",
       "      <td>28</td>\n",
       "      <td>Marketing</td>\n",
       "      <td>55000</td>\n",
       "      <td>Nashik</td>\n",
       "    </tr>\n",
       "    <tr>\n",
       "      <th>2</th>\n",
       "      <td>Rahul</td>\n",
       "      <td>22</td>\n",
       "      <td>Finance</td>\n",
       "      <td>48000</td>\n",
       "      <td>Geneva</td>\n",
       "    </tr>\n",
       "    <tr>\n",
       "      <th>3</th>\n",
       "      <td>Sneha</td>\n",
       "      <td>30</td>\n",
       "      <td>HR</td>\n",
       "      <td>60000</td>\n",
       "      <td>CSN</td>\n",
       "    </tr>\n",
       "  </tbody>\n",
       "</table>\n",
       "</div>"
      ],
      "text/plain": [
       "    Name  Age      Department  Salary     City\n",
       "0   Amit   25  Data Analytics   50000  Arizona\n",
       "1  Priya   28       Marketing   55000   Nashik\n",
       "2  Rahul   22         Finance   48000   Geneva\n",
       "3  Sneha   30              HR   60000      CSN"
      ]
     },
     "execution_count": 42,
     "metadata": {},
     "output_type": "execute_result"
    }
   ],
   "source": [
    "#column name and then give list \n",
    "df2[\"City\"]=[\"Arizona\",\"Nashik\",\"Geneva\",\"CSN\"]\n",
    "df2"
   ]
  },
  {
   "cell_type": "markdown",
   "id": "1a15a2b1-7ea1-480d-97ec-c06bea24b7e6",
   "metadata": {},
   "source": [
    "<h2 style=\"color:#ffee58;\"> IV]📝 Removing Columns Columns </h2>"
   ]
  },
  {
   "cell_type": "code",
   "execution_count": null,
   "id": "7f3f9a2c-1f18-4b16-b799-689b624719e8",
   "metadata": {},
   "outputs": [],
   "source": [
    "df2.drop('City' ) # error coz axis hasn't provided"
   ]
  },
  {
   "cell_type": "code",
   "execution_count": 45,
   "id": "54d7afa0-d4c5-45ab-80b6-a6bae954c911",
   "metadata": {},
   "outputs": [
    {
     "data": {
      "text/html": [
       "<div>\n",
       "<style scoped>\n",
       "    .dataframe tbody tr th:only-of-type {\n",
       "        vertical-align: middle;\n",
       "    }\n",
       "\n",
       "    .dataframe tbody tr th {\n",
       "        vertical-align: top;\n",
       "    }\n",
       "\n",
       "    .dataframe thead th {\n",
       "        text-align: right;\n",
       "    }\n",
       "</style>\n",
       "<table border=\"1\" class=\"dataframe\">\n",
       "  <thead>\n",
       "    <tr style=\"text-align: right;\">\n",
       "      <th></th>\n",
       "      <th>Name</th>\n",
       "      <th>Age</th>\n",
       "      <th>Department</th>\n",
       "      <th>Salary</th>\n",
       "    </tr>\n",
       "  </thead>\n",
       "  <tbody>\n",
       "    <tr>\n",
       "      <th>0</th>\n",
       "      <td>Amit</td>\n",
       "      <td>25</td>\n",
       "      <td>Data Analytics</td>\n",
       "      <td>50000</td>\n",
       "    </tr>\n",
       "    <tr>\n",
       "      <th>1</th>\n",
       "      <td>Priya</td>\n",
       "      <td>28</td>\n",
       "      <td>Marketing</td>\n",
       "      <td>55000</td>\n",
       "    </tr>\n",
       "    <tr>\n",
       "      <th>2</th>\n",
       "      <td>Rahul</td>\n",
       "      <td>22</td>\n",
       "      <td>Finance</td>\n",
       "      <td>48000</td>\n",
       "    </tr>\n",
       "    <tr>\n",
       "      <th>3</th>\n",
       "      <td>Sneha</td>\n",
       "      <td>30</td>\n",
       "      <td>HR</td>\n",
       "      <td>60000</td>\n",
       "    </tr>\n",
       "  </tbody>\n",
       "</table>\n",
       "</div>"
      ],
      "text/plain": [
       "    Name  Age      Department  Salary\n",
       "0   Amit   25  Data Analytics   50000\n",
       "1  Priya   28       Marketing   55000\n",
       "2  Rahul   22         Finance   48000\n",
       "3  Sneha   30              HR   60000"
      ]
     },
     "execution_count": 45,
     "metadata": {},
     "output_type": "execute_result"
    }
   ],
   "source": [
    "df2.drop('City' , axis=1) #In a Pandas DataFrame, **`axis=0` refers to rows (vertical) here..0,1,2,3 and axis=1` refers to columns (horizontal) ..name , age , city....\n",
    "# this makes only copy no change in original DB"
   ]
  },
  {
   "cell_type": "code",
   "execution_count": 46,
   "id": "afd26a43-12a8-4b4f-94a9-f90d4ab375b8",
   "metadata": {},
   "outputs": [
    {
     "data": {
      "text/html": [
       "<div>\n",
       "<style scoped>\n",
       "    .dataframe tbody tr th:only-of-type {\n",
       "        vertical-align: middle;\n",
       "    }\n",
       "\n",
       "    .dataframe tbody tr th {\n",
       "        vertical-align: top;\n",
       "    }\n",
       "\n",
       "    .dataframe thead th {\n",
       "        text-align: right;\n",
       "    }\n",
       "</style>\n",
       "<table border=\"1\" class=\"dataframe\">\n",
       "  <thead>\n",
       "    <tr style=\"text-align: right;\">\n",
       "      <th></th>\n",
       "      <th>Name</th>\n",
       "      <th>Age</th>\n",
       "      <th>Department</th>\n",
       "      <th>Salary</th>\n",
       "      <th>City</th>\n",
       "    </tr>\n",
       "  </thead>\n",
       "  <tbody>\n",
       "    <tr>\n",
       "      <th>0</th>\n",
       "      <td>Amit</td>\n",
       "      <td>25</td>\n",
       "      <td>Data Analytics</td>\n",
       "      <td>50000</td>\n",
       "      <td>Arizona</td>\n",
       "    </tr>\n",
       "    <tr>\n",
       "      <th>1</th>\n",
       "      <td>Priya</td>\n",
       "      <td>28</td>\n",
       "      <td>Marketing</td>\n",
       "      <td>55000</td>\n",
       "      <td>Nashik</td>\n",
       "    </tr>\n",
       "    <tr>\n",
       "      <th>2</th>\n",
       "      <td>Rahul</td>\n",
       "      <td>22</td>\n",
       "      <td>Finance</td>\n",
       "      <td>48000</td>\n",
       "      <td>Geneva</td>\n",
       "    </tr>\n",
       "    <tr>\n",
       "      <th>3</th>\n",
       "      <td>Sneha</td>\n",
       "      <td>30</td>\n",
       "      <td>HR</td>\n",
       "      <td>60000</td>\n",
       "      <td>CSN</td>\n",
       "    </tr>\n",
       "  </tbody>\n",
       "</table>\n",
       "</div>"
      ],
      "text/plain": [
       "    Name  Age      Department  Salary     City\n",
       "0   Amit   25  Data Analytics   50000  Arizona\n",
       "1  Priya   28       Marketing   55000   Nashik\n",
       "2  Rahul   22         Finance   48000   Geneva\n",
       "3  Sneha   30              HR   60000      CSN"
      ]
     },
     "execution_count": 46,
     "metadata": {},
     "output_type": "execute_result"
    }
   ],
   "source": [
    "df2 # => shows it hasn't got removed from main data"
   ]
  },
  {
   "cell_type": "code",
   "execution_count": 47,
   "id": "6c735d00-31bd-4014-b589-3b2072749371",
   "metadata": {},
   "outputs": [
    {
     "data": {
      "text/html": [
       "<div>\n",
       "<style scoped>\n",
       "    .dataframe tbody tr th:only-of-type {\n",
       "        vertical-align: middle;\n",
       "    }\n",
       "\n",
       "    .dataframe tbody tr th {\n",
       "        vertical-align: top;\n",
       "    }\n",
       "\n",
       "    .dataframe thead th {\n",
       "        text-align: right;\n",
       "    }\n",
       "</style>\n",
       "<table border=\"1\" class=\"dataframe\">\n",
       "  <thead>\n",
       "    <tr style=\"text-align: right;\">\n",
       "      <th></th>\n",
       "      <th>Name</th>\n",
       "      <th>Age</th>\n",
       "      <th>Department</th>\n",
       "      <th>Salary</th>\n",
       "    </tr>\n",
       "  </thead>\n",
       "  <tbody>\n",
       "    <tr>\n",
       "      <th>0</th>\n",
       "      <td>Amit</td>\n",
       "      <td>25</td>\n",
       "      <td>Data Analytics</td>\n",
       "      <td>50000</td>\n",
       "    </tr>\n",
       "    <tr>\n",
       "      <th>1</th>\n",
       "      <td>Priya</td>\n",
       "      <td>28</td>\n",
       "      <td>Marketing</td>\n",
       "      <td>55000</td>\n",
       "    </tr>\n",
       "    <tr>\n",
       "      <th>2</th>\n",
       "      <td>Rahul</td>\n",
       "      <td>22</td>\n",
       "      <td>Finance</td>\n",
       "      <td>48000</td>\n",
       "    </tr>\n",
       "    <tr>\n",
       "      <th>3</th>\n",
       "      <td>Sneha</td>\n",
       "      <td>30</td>\n",
       "      <td>HR</td>\n",
       "      <td>60000</td>\n",
       "    </tr>\n",
       "  </tbody>\n",
       "</table>\n",
       "</div>"
      ],
      "text/plain": [
       "    Name  Age      Department  Salary\n",
       "0   Amit   25  Data Analytics   50000\n",
       "1  Priya   28       Marketing   55000\n",
       "2  Rahul   22         Finance   48000\n",
       "3  Sneha   30              HR   60000"
      ]
     },
     "execution_count": 47,
     "metadata": {},
     "output_type": "execute_result"
    }
   ],
   "source": [
    "df2.drop('City',axis=1,inplace=True) #to remove multiple thing's [\"Name\" , \"Age\"] like this\n",
    "df2"
   ]
  },
  {
   "cell_type": "code",
   "execution_count": 48,
   "id": "e16c4665-246b-4060-b71a-6a2fffc3f6e0",
   "metadata": {},
   "outputs": [
    {
     "data": {
      "text/html": [
       "<div>\n",
       "<style scoped>\n",
       "    .dataframe tbody tr th:only-of-type {\n",
       "        vertical-align: middle;\n",
       "    }\n",
       "\n",
       "    .dataframe tbody tr th {\n",
       "        vertical-align: top;\n",
       "    }\n",
       "\n",
       "    .dataframe thead th {\n",
       "        text-align: right;\n",
       "    }\n",
       "</style>\n",
       "<table border=\"1\" class=\"dataframe\">\n",
       "  <thead>\n",
       "    <tr style=\"text-align: right;\">\n",
       "      <th></th>\n",
       "      <th>Name</th>\n",
       "      <th>Department</th>\n",
       "    </tr>\n",
       "  </thead>\n",
       "  <tbody>\n",
       "    <tr>\n",
       "      <th>0</th>\n",
       "      <td>Amit</td>\n",
       "      <td>Data Analytics</td>\n",
       "    </tr>\n",
       "    <tr>\n",
       "      <th>1</th>\n",
       "      <td>Priya</td>\n",
       "      <td>Marketing</td>\n",
       "    </tr>\n",
       "    <tr>\n",
       "      <th>2</th>\n",
       "      <td>Rahul</td>\n",
       "      <td>Finance</td>\n",
       "    </tr>\n",
       "    <tr>\n",
       "      <th>3</th>\n",
       "      <td>Sneha</td>\n",
       "      <td>HR</td>\n",
       "    </tr>\n",
       "  </tbody>\n",
       "</table>\n",
       "</div>"
      ],
      "text/plain": [
       "    Name      Department\n",
       "0   Amit  Data Analytics\n",
       "1  Priya       Marketing\n",
       "2  Rahul         Finance\n",
       "3  Sneha              HR"
      ]
     },
     "execution_count": 48,
     "metadata": {},
     "output_type": "execute_result"
    }
   ],
   "source": [
    "df2.drop([\"Age\",\"Salary\"] , axis=1) #haven't added inplace coz permanent deletion will happen"
   ]
  },
  {
   "cell_type": "code",
   "execution_count": 49,
   "id": "0fe94f8e-30e0-4ad0-9b81-c061fa14224c",
   "metadata": {},
   "outputs": [
    {
     "data": {
      "text/html": [
       "<div>\n",
       "<style scoped>\n",
       "    .dataframe tbody tr th:only-of-type {\n",
       "        vertical-align: middle;\n",
       "    }\n",
       "\n",
       "    .dataframe tbody tr th {\n",
       "        vertical-align: top;\n",
       "    }\n",
       "\n",
       "    .dataframe thead th {\n",
       "        text-align: right;\n",
       "    }\n",
       "</style>\n",
       "<table border=\"1\" class=\"dataframe\">\n",
       "  <thead>\n",
       "    <tr style=\"text-align: right;\">\n",
       "      <th></th>\n",
       "      <th>Name</th>\n",
       "      <th>Age</th>\n",
       "      <th>Department</th>\n",
       "      <th>Salary</th>\n",
       "    </tr>\n",
       "  </thead>\n",
       "  <tbody>\n",
       "    <tr>\n",
       "      <th>0</th>\n",
       "      <td>Amit</td>\n",
       "      <td>25</td>\n",
       "      <td>Data Analytics</td>\n",
       "      <td>50000</td>\n",
       "    </tr>\n",
       "    <tr>\n",
       "      <th>1</th>\n",
       "      <td>Priya</td>\n",
       "      <td>28</td>\n",
       "      <td>Marketing</td>\n",
       "      <td>55000</td>\n",
       "    </tr>\n",
       "    <tr>\n",
       "      <th>2</th>\n",
       "      <td>Rahul</td>\n",
       "      <td>22</td>\n",
       "      <td>Finance</td>\n",
       "      <td>48000</td>\n",
       "    </tr>\n",
       "    <tr>\n",
       "      <th>3</th>\n",
       "      <td>Sneha</td>\n",
       "      <td>30</td>\n",
       "      <td>HR</td>\n",
       "      <td>60000</td>\n",
       "    </tr>\n",
       "  </tbody>\n",
       "</table>\n",
       "</div>"
      ],
      "text/plain": [
       "    Name  Age      Department  Salary\n",
       "0   Amit   25  Data Analytics   50000\n",
       "1  Priya   28       Marketing   55000\n",
       "2  Rahul   22         Finance   48000\n",
       "3  Sneha   30              HR   60000"
      ]
     },
     "execution_count": 49,
     "metadata": {},
     "output_type": "execute_result"
    }
   ],
   "source": [
    "df2"
   ]
  },
  {
   "cell_type": "markdown",
   "id": "4e5edd53-2af5-496e-a805-de2e93ff2bfd",
   "metadata": {},
   "source": [
    "\n",
    "<h4 style=\"color:#f39c12;\">📝 deleting rows: ...</h4>"
   ]
  },
  {
   "cell_type": "code",
   "execution_count": 50,
   "id": "e6093b27-1209-4e62-b616-f24c09088584",
   "metadata": {},
   "outputs": [
    {
     "data": {
      "text/html": [
       "<div>\n",
       "<style scoped>\n",
       "    .dataframe tbody tr th:only-of-type {\n",
       "        vertical-align: middle;\n",
       "    }\n",
       "\n",
       "    .dataframe tbody tr th {\n",
       "        vertical-align: top;\n",
       "    }\n",
       "\n",
       "    .dataframe thead th {\n",
       "        text-align: right;\n",
       "    }\n",
       "</style>\n",
       "<table border=\"1\" class=\"dataframe\">\n",
       "  <thead>\n",
       "    <tr style=\"text-align: right;\">\n",
       "      <th></th>\n",
       "      <th>Name</th>\n",
       "      <th>Age</th>\n",
       "      <th>Department</th>\n",
       "      <th>Salary</th>\n",
       "    </tr>\n",
       "  </thead>\n",
       "  <tbody>\n",
       "    <tr>\n",
       "      <th>0</th>\n",
       "      <td>Amit</td>\n",
       "      <td>25</td>\n",
       "      <td>Data Analytics</td>\n",
       "      <td>50000</td>\n",
       "    </tr>\n",
       "    <tr>\n",
       "      <th>2</th>\n",
       "      <td>Rahul</td>\n",
       "      <td>22</td>\n",
       "      <td>Finance</td>\n",
       "      <td>48000</td>\n",
       "    </tr>\n",
       "    <tr>\n",
       "      <th>3</th>\n",
       "      <td>Sneha</td>\n",
       "      <td>30</td>\n",
       "      <td>HR</td>\n",
       "      <td>60000</td>\n",
       "    </tr>\n",
       "  </tbody>\n",
       "</table>\n",
       "</div>"
      ],
      "text/plain": [
       "    Name  Age      Department  Salary\n",
       "0   Amit   25  Data Analytics   50000\n",
       "2  Rahul   22         Finance   48000\n",
       "3  Sneha   30              HR   60000"
      ]
     },
     "execution_count": 50,
     "metadata": {},
     "output_type": "execute_result"
    }
   ],
   "source": [
    "df2.drop(1,axis=0) #1th row removed temp , axis = 0 for rows"
   ]
  },
  {
   "cell_type": "code",
   "execution_count": 51,
   "id": "8e1ef56b-c37a-4be1-a54a-8b5cd27b3725",
   "metadata": {},
   "outputs": [
    {
     "data": {
      "text/html": [
       "<div>\n",
       "<style scoped>\n",
       "    .dataframe tbody tr th:only-of-type {\n",
       "        vertical-align: middle;\n",
       "    }\n",
       "\n",
       "    .dataframe tbody tr th {\n",
       "        vertical-align: top;\n",
       "    }\n",
       "\n",
       "    .dataframe thead th {\n",
       "        text-align: right;\n",
       "    }\n",
       "</style>\n",
       "<table border=\"1\" class=\"dataframe\">\n",
       "  <thead>\n",
       "    <tr style=\"text-align: right;\">\n",
       "      <th></th>\n",
       "      <th>Name</th>\n",
       "      <th>Age</th>\n",
       "      <th>Department</th>\n",
       "      <th>Salary</th>\n",
       "    </tr>\n",
       "  </thead>\n",
       "  <tbody>\n",
       "    <tr>\n",
       "      <th>0</th>\n",
       "      <td>Amit</td>\n",
       "      <td>25</td>\n",
       "      <td>Data Analytics</td>\n",
       "      <td>50000</td>\n",
       "    </tr>\n",
       "    <tr>\n",
       "      <th>1</th>\n",
       "      <td>Priya</td>\n",
       "      <td>28</td>\n",
       "      <td>Marketing</td>\n",
       "      <td>55000</td>\n",
       "    </tr>\n",
       "    <tr>\n",
       "      <th>2</th>\n",
       "      <td>Rahul</td>\n",
       "      <td>22</td>\n",
       "      <td>Finance</td>\n",
       "      <td>48000</td>\n",
       "    </tr>\n",
       "    <tr>\n",
       "      <th>3</th>\n",
       "      <td>Sneha</td>\n",
       "      <td>30</td>\n",
       "      <td>HR</td>\n",
       "      <td>60000</td>\n",
       "    </tr>\n",
       "  </tbody>\n",
       "</table>\n",
       "</div>"
      ],
      "text/plain": [
       "    Name  Age      Department  Salary\n",
       "0   Amit   25  Data Analytics   50000\n",
       "1  Priya   28       Marketing   55000\n",
       "2  Rahul   22         Finance   48000\n",
       "3  Sneha   30              HR   60000"
      ]
     },
     "execution_count": 51,
     "metadata": {},
     "output_type": "execute_result"
    }
   ],
   "source": [
    "df2"
   ]
  },
  {
   "cell_type": "markdown",
   "id": "5dade8ed-c04f-4d60-abf0-3f0e775e1d88",
   "metadata": {},
   "source": [
    "<h2 style=\"color:#ffee58;\">V]]📝Selecting Rows</h2>\n"
   ]
  },
  {
   "cell_type": "code",
   "execution_count": 52,
   "id": "eb10d6d2-4bc4-4f3f-9a45-06fee075ef81",
   "metadata": {},
   "outputs": [
    {
     "data": {
      "text/plain": [
       "Name                    Amit\n",
       "Age                       25\n",
       "Department    Data Analytics\n",
       "Salary                 50000\n",
       "Name: 0, dtype: object"
      ]
     },
     "execution_count": 52,
     "metadata": {},
     "output_type": "execute_result"
    }
   ],
   "source": [
    "df2.loc[0] #loc=> location used for selecting rows"
   ]
  },
  {
   "cell_type": "code",
   "execution_count": 53,
   "id": "73a2e551-d3d7-45a0-a742-a71ec59ecb8b",
   "metadata": {},
   "outputs": [
    {
     "data": {
      "text/html": [
       "<div>\n",
       "<style scoped>\n",
       "    .dataframe tbody tr th:only-of-type {\n",
       "        vertical-align: middle;\n",
       "    }\n",
       "\n",
       "    .dataframe tbody tr th {\n",
       "        vertical-align: top;\n",
       "    }\n",
       "\n",
       "    .dataframe thead th {\n",
       "        text-align: right;\n",
       "    }\n",
       "</style>\n",
       "<table border=\"1\" class=\"dataframe\">\n",
       "  <thead>\n",
       "    <tr style=\"text-align: right;\">\n",
       "      <th></th>\n",
       "      <th>Name</th>\n",
       "      <th>Age</th>\n",
       "      <th>Department</th>\n",
       "      <th>Salary</th>\n",
       "    </tr>\n",
       "  </thead>\n",
       "  <tbody>\n",
       "    <tr>\n",
       "      <th>0</th>\n",
       "      <td>Amit</td>\n",
       "      <td>25</td>\n",
       "      <td>Data Analytics</td>\n",
       "      <td>50000</td>\n",
       "    </tr>\n",
       "    <tr>\n",
       "      <th>2</th>\n",
       "      <td>Rahul</td>\n",
       "      <td>22</td>\n",
       "      <td>Finance</td>\n",
       "      <td>48000</td>\n",
       "    </tr>\n",
       "  </tbody>\n",
       "</table>\n",
       "</div>"
      ],
      "text/plain": [
       "    Name  Age      Department  Salary\n",
       "0   Amit   25  Data Analytics   50000\n",
       "2  Rahul   22         Finance   48000"
      ]
     },
     "execution_count": 53,
     "metadata": {},
     "output_type": "execute_result"
    }
   ],
   "source": [
    "df2.loc[[0,2]]"
   ]
  },
  {
   "cell_type": "code",
   "execution_count": 54,
   "id": "ef147734-9ebc-4137-8c16-19332227e753",
   "metadata": {},
   "outputs": [
    {
     "data": {
      "text/plain": [
       "Name                    Amit\n",
       "Age                       25\n",
       "Department    Data Analytics\n",
       "Salary                 50000\n",
       "Name: 0, dtype: object"
      ]
     },
     "execution_count": 54,
     "metadata": {},
     "output_type": "execute_result"
    }
   ],
   "source": [
    "df2.iloc[0]"
   ]
  },
  {
   "cell_type": "markdown",
   "id": "85b8c4db-ebb7-4d12-a9fd-a921b84b56ba",
   "metadata": {},
   "source": [
    "<h2 style=\"color:#ffee58;\">V]📝Selecting Subsets of Rows & Columns</h2>\n"
   ]
  },
  {
   "cell_type": "code",
   "execution_count": 57,
   "id": "63ba1db9-987c-4de6-976d-050359e87781",
   "metadata": {},
   "outputs": [
    {
     "data": {
      "text/html": [
       "<div>\n",
       "<style scoped>\n",
       "    .dataframe tbody tr th:only-of-type {\n",
       "        vertical-align: middle;\n",
       "    }\n",
       "\n",
       "    .dataframe tbody tr th {\n",
       "        vertical-align: top;\n",
       "    }\n",
       "\n",
       "    .dataframe thead th {\n",
       "        text-align: right;\n",
       "    }\n",
       "</style>\n",
       "<table border=\"1\" class=\"dataframe\">\n",
       "  <thead>\n",
       "    <tr style=\"text-align: right;\">\n",
       "      <th></th>\n",
       "      <th>Department</th>\n",
       "      <th>Salary</th>\n",
       "    </tr>\n",
       "  </thead>\n",
       "  <tbody>\n",
       "    <tr>\n",
       "      <th>0</th>\n",
       "      <td>Data Analytics</td>\n",
       "      <td>50000</td>\n",
       "    </tr>\n",
       "    <tr>\n",
       "      <th>1</th>\n",
       "      <td>Marketing</td>\n",
       "      <td>55000</td>\n",
       "    </tr>\n",
       "  </tbody>\n",
       "</table>\n",
       "</div>"
      ],
      "text/plain": [
       "       Department  Salary\n",
       "0  Data Analytics   50000\n",
       "1       Marketing   55000"
      ]
     },
     "execution_count": 57,
     "metadata": {},
     "output_type": "execute_result"
    }
   ],
   "source": [
    "df.loc[[0,1]] [[\"Department\",\"Salary\"]] #0th 1th row and depart, sala. selected"
   ]
  },
  {
   "cell_type": "markdown",
   "id": "4e088e13-f27d-492e-a013-b59fad1e8e4c",
   "metadata": {},
   "source": [
    "<h2 style=\"color:#ffee58;\">VI]📝Conditional Selection</h2>\n"
   ]
  },
  {
   "cell_type": "code",
   "execution_count": 58,
   "id": "79dbaafd-aeba-49fa-ac19-eac6c3ef515f",
   "metadata": {},
   "outputs": [
    {
     "data": {
      "text/html": [
       "<div>\n",
       "<style scoped>\n",
       "    .dataframe tbody tr th:only-of-type {\n",
       "        vertical-align: middle;\n",
       "    }\n",
       "\n",
       "    .dataframe tbody tr th {\n",
       "        vertical-align: top;\n",
       "    }\n",
       "\n",
       "    .dataframe thead th {\n",
       "        text-align: right;\n",
       "    }\n",
       "</style>\n",
       "<table border=\"1\" class=\"dataframe\">\n",
       "  <thead>\n",
       "    <tr style=\"text-align: right;\">\n",
       "      <th></th>\n",
       "      <th>Name</th>\n",
       "      <th>Age</th>\n",
       "      <th>Department</th>\n",
       "      <th>Salary</th>\n",
       "    </tr>\n",
       "  </thead>\n",
       "  <tbody>\n",
       "    <tr>\n",
       "      <th>1</th>\n",
       "      <td>Priya</td>\n",
       "      <td>28</td>\n",
       "      <td>Marketing</td>\n",
       "      <td>55000</td>\n",
       "    </tr>\n",
       "    <tr>\n",
       "      <th>3</th>\n",
       "      <td>Sneha</td>\n",
       "      <td>30</td>\n",
       "      <td>HR</td>\n",
       "      <td>60000</td>\n",
       "    </tr>\n",
       "  </tbody>\n",
       "</table>\n",
       "</div>"
      ],
      "text/plain": [
       "    Name  Age Department  Salary\n",
       "1  Priya   28  Marketing   55000\n",
       "3  Sneha   30         HR   60000"
      ]
     },
     "execution_count": 58,
     "metadata": {},
     "output_type": "execute_result"
    }
   ],
   "source": [
    "# only want to see those people whose age is above 25\n",
    "df2[df2 [\"Age\"]>25]"
   ]
  },
  {
   "cell_type": "code",
   "execution_count": 61,
   "id": "4b9992b1-94d2-4049-b1c0-ad902838b03c",
   "metadata": {},
   "outputs": [
    {
     "data": {
      "text/html": [
       "<div>\n",
       "<style scoped>\n",
       "    .dataframe tbody tr th:only-of-type {\n",
       "        vertical-align: middle;\n",
       "    }\n",
       "\n",
       "    .dataframe tbody tr th {\n",
       "        vertical-align: top;\n",
       "    }\n",
       "\n",
       "    .dataframe thead th {\n",
       "        text-align: right;\n",
       "    }\n",
       "</style>\n",
       "<table border=\"1\" class=\"dataframe\">\n",
       "  <thead>\n",
       "    <tr style=\"text-align: right;\">\n",
       "      <th></th>\n",
       "      <th>Name</th>\n",
       "      <th>Age</th>\n",
       "      <th>Department</th>\n",
       "      <th>Salary</th>\n",
       "    </tr>\n",
       "  </thead>\n",
       "  <tbody>\n",
       "  </tbody>\n",
       "</table>\n",
       "</div>"
      ],
      "text/plain": [
       "Empty DataFrame\n",
       "Columns: [Name, Age, Department, Salary]\n",
       "Index: []"
      ]
     },
     "execution_count": 61,
     "metadata": {},
     "output_type": "execute_result"
    }
   ],
   "source": [
    "#age above 25 and Name is Amit => for more\n",
    "df2[(df2[\"Age\"]>25) & (df2[\"Name\"] ==\"Amit\")]"
   ]
  },
  {
   "cell_type": "code",
   "execution_count": null,
   "id": "a5c46764-96f0-45bf-abe6-e2c102b199cd",
   "metadata": {},
   "outputs": [],
   "source": []
  }
 ],
 "metadata": {
  "kernelspec": {
   "display_name": "Python [conda env:base] *",
   "language": "python",
   "name": "conda-base-py"
  },
  "language_info": {
   "codemirror_mode": {
    "name": "ipython",
    "version": 3
   },
   "file_extension": ".py",
   "mimetype": "text/x-python",
   "name": "python",
   "nbconvert_exporter": "python",
   "pygments_lexer": "ipython3",
   "version": "3.13.5"
  }
 },
 "nbformat": 4,
 "nbformat_minor": 5
}
