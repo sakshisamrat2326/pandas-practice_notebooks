{
 "cells": [
  {
   "cell_type": "markdown",
   "id": "f0b3f82f-57db-4fa6-9133-4fdcd705bab6",
   "metadata": {},
   "source": [
    "<h1 style=\"color:#1abc9c; font-size:48px;\">📘 Pandas Series</h1>\n",
    "\n",
    "A series is a one dimensional labeled array capable of holding any data type. The axis labels are collectively called as index. (we see Series vertically)"
   ]
  },
  {
   "cell_type": "markdown",
   "id": "184e86d6-9ce2-4ca9-8d34-77c9e3226e7a",
   "metadata": {},
   "source": [
    "#### 🔸 <span style=\"color:#ff8c00\">Creating Series</span>\n"
   ]
  },
  {
   "cell_type": "markdown",
   "id": "fdeb33fc-08dd-4205-97a5-4fb5a39e0825",
   "metadata": {},
   "source": [
    "There are multiple ways to craete Series:"
   ]
  },
  {
   "cell_type": "code",
   "execution_count": 1,
   "id": "ea19d4ba-9d14-4301-83a9-d6ed34e2fca5",
   "metadata": {},
   "outputs": [
    {
     "name": "stdout",
     "output_type": "stream",
     "text": [
      "Requirement already satisfied: pandas in c:\\users\\sakshi\\anaconda3\\lib\\site-packages (2.2.3)Note: you may need to restart the kernel to use updated packages.\n",
      "\n",
      "Requirement already satisfied: numpy>=1.26.0 in c:\\users\\sakshi\\anaconda3\\lib\\site-packages (from pandas) (2.1.3)\n",
      "Requirement already satisfied: python-dateutil>=2.8.2 in c:\\users\\sakshi\\anaconda3\\lib\\site-packages (from pandas) (2.9.0.post0)\n",
      "Requirement already satisfied: pytz>=2020.1 in c:\\users\\sakshi\\anaconda3\\lib\\site-packages (from pandas) (2024.1)\n",
      "Requirement already satisfied: tzdata>=2022.7 in c:\\users\\sakshi\\anaconda3\\lib\\site-packages (from pandas) (2025.2)\n",
      "Requirement already satisfied: six>=1.5 in c:\\users\\sakshi\\anaconda3\\lib\\site-packages (from python-dateutil>=2.8.2->pandas) (1.17.0)\n"
     ]
    }
   ],
   "source": [
    "pip install pandas"
   ]
  },
  {
   "cell_type": "code",
   "execution_count": 3,
   "id": "fa67a283-63a1-4029-9b77-449b8c7829ed",
   "metadata": {},
   "outputs": [],
   "source": [
    "import numpy as np\n",
    "import pandas as pd"
   ]
  },
  {
   "cell_type": "code",
   "execution_count": 12,
   "id": "d6ab5e8c-b2ae-44d6-9561-26130a87fc0d",
   "metadata": {},
   "outputs": [],
   "source": [
    "labels = ['a' , 'b','c']\n",
    "l=[10,20,30]\n",
    "arr=np.array([10,20,30])\n",
    "d={'a':10,'b':20,'c':30}"
   ]
  },
  {
   "cell_type": "markdown",
   "id": "4c23bc35-02dd-4818-b632-0d1df136bea0",
   "metadata": {},
   "source": [
    "<h5 style=\"color:#e67e22; font-size:22px;\">1.📝Creating Using Lists </h5>\n"
   ]
  },
  {
   "cell_type": "code",
   "execution_count": 4,
   "id": "83e95d54-57c7-468e-bd24-d8b7254c69af",
   "metadata": {},
   "outputs": [
    {
     "data": {
      "text/plain": [
       "0    10\n",
       "1    20\n",
       "2    30\n",
       "dtype: int64"
      ]
     },
     "execution_count": 4,
     "metadata": {},
     "output_type": "execute_result"
    }
   ],
   "source": [
    "pd.Series(l)"
   ]
  },
  {
   "cell_type": "markdown",
   "id": "40170f6b-7a6a-4dae-b01c-2e3f9d20e8f5",
   "metadata": {},
   "source": [
    "# Applying Custom Labels"
   ]
  },
  {
   "cell_type": "code",
   "execution_count": 5,
   "id": "32a145e2-98a5-4241-a446-a8ea219867d2",
   "metadata": {},
   "outputs": [
    {
     "data": {
      "text/plain": [
       "a    10\n",
       "b    20\n",
       "c    30\n",
       "dtype: int64"
      ]
     },
     "execution_count": 5,
     "metadata": {},
     "output_type": "execute_result"
    }
   ],
   "source": [
    "# Applying custom Labels\n",
    "pd.Series(l,index=labels)"
   ]
  },
  {
   "cell_type": "markdown",
   "id": "2bb75415-bd03-4178-b1c7-8a3d97c9c443",
   "metadata": {},
   "source": [
    "<h5 style=\"color:#e67e22; font-size:22px;\">2.📝Creating From Arrays </h5>\n"
   ]
  },
  {
   "cell_type": "code",
   "execution_count": 6,
   "id": "2deb1e14-f2fe-478e-89d8-15cd1556eb18",
   "metadata": {},
   "outputs": [
    {
     "data": {
      "text/plain": [
       "0    10\n",
       "1    20\n",
       "2    30\n",
       "dtype: int64"
      ]
     },
     "execution_count": 6,
     "metadata": {},
     "output_type": "execute_result"
    }
   ],
   "source": [
    "pd.Series(arr)"
   ]
  },
  {
   "cell_type": "markdown",
   "id": "b4c43826-e36f-4459-b5e7-0e173724fe7c",
   "metadata": {},
   "source": [
    "<h5 style=\"color:#e67e22; font-size:22px;\">3.📝Creating  using dictionaries </h5>\n"
   ]
  },
  {
   "cell_type": "code",
   "execution_count": 13,
   "id": "3468de74-f6fe-400f-928d-f39e2bf9acf7",
   "metadata": {},
   "outputs": [
    {
     "data": {
      "text/plain": [
       "a    10\n",
       "b    20\n",
       "c    30\n",
       "dtype: int64"
      ]
     },
     "execution_count": 13,
     "metadata": {},
     "output_type": "execute_result"
    }
   ],
   "source": [
    "pd.Series(d)"
   ]
  },
  {
   "cell_type": "code",
   "execution_count": null,
   "id": "8567edf5-ded2-4769-932e-d2b001139e89",
   "metadata": {},
   "outputs": [],
   "source": []
  },
  {
   "cell_type": "code",
   "execution_count": null,
   "id": "20a5f94c-488f-41f4-93c8-21429479d37c",
   "metadata": {},
   "outputs": [],
   "source": []
  }
 ],
 "metadata": {
  "kernelspec": {
   "display_name": "Python [conda env:base] *",
   "language": "python",
   "name": "conda-base-py"
  },
  "language_info": {
   "codemirror_mode": {
    "name": "ipython",
    "version": 3
   },
   "file_extension": ".py",
   "mimetype": "text/x-python",
   "name": "python",
   "nbconvert_exporter": "python",
   "pygments_lexer": "ipython3",
   "version": "3.13.5"
  }
 },
 "nbformat": 4,
 "nbformat_minor": 5
}
