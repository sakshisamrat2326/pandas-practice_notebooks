{
 "cells": [
  {
   "cell_type": "code",
   "execution_count": 1,
   "id": "f88cbe33-c81a-4c7d-84be-8cc24da8af87",
   "metadata": {},
   "outputs": [],
   "source": [
    "import numpy as np\n",
    "import pandas as pd"
   ]
  },
  {
   "cell_type": "markdown",
   "id": "5a79325c-60ac-4fee-b78b-938c5ae129fe",
   "metadata": {},
   "source": [
    "<style>\n",
    "h1 {\n",
    "    font-size: 34px;\n",
    "    color: #FFD700; /* gold */\n",
    "    font-weight: bold;\n",
    "}\n",
    "h2 {\n",
    "    font-size: 28px;\n",
    "    color: #1E90FF; /* dodger blue */\n",
    "    font-weight: bold;\n",
    "}\n",
    "h3 {\n",
    "    font-size: 24px;\n",
    "    color: #90EE90; /* light green */\n",
    "    font-weight: bold;\n",
    "}\n",
    "</style>\n"
   ]
  },
  {
   "cell_type": "code",
   "execution_count": 12,
   "id": "537a93be-071e-4741-a518-96fb56de7f96",
   "metadata": {},
   "outputs": [
    {
     "data": {
      "text/html": [
       "<div>\n",
       "<style scoped>\n",
       "    .dataframe tbody tr th:only-of-type {\n",
       "        vertical-align: middle;\n",
       "    }\n",
       "\n",
       "    .dataframe tbody tr th {\n",
       "        vertical-align: top;\n",
       "    }\n",
       "\n",
       "    .dataframe thead th {\n",
       "        text-align: right;\n",
       "    }\n",
       "</style>\n",
       "<table border=\"1\" class=\"dataframe\">\n",
       "  <thead>\n",
       "    <tr style=\"text-align: right;\">\n",
       "      <th></th>\n",
       "      <th>Department</th>\n",
       "      <th>Employee</th>\n",
       "      <th>Salary</th>\n",
       "      <th>Bonus</th>\n",
       "    </tr>\n",
       "  </thead>\n",
       "  <tbody>\n",
       "    <tr>\n",
       "      <th>0</th>\n",
       "      <td>HR</td>\n",
       "      <td>John</td>\n",
       "      <td>50000</td>\n",
       "      <td>5000</td>\n",
       "    </tr>\n",
       "    <tr>\n",
       "      <th>1</th>\n",
       "      <td>IT</td>\n",
       "      <td>Anna</td>\n",
       "      <td>60000</td>\n",
       "      <td>6000</td>\n",
       "    </tr>\n",
       "    <tr>\n",
       "      <th>2</th>\n",
       "      <td>Finance</td>\n",
       "      <td>Peter</td>\n",
       "      <td>55000</td>\n",
       "      <td>5500</td>\n",
       "    </tr>\n",
       "    <tr>\n",
       "      <th>3</th>\n",
       "      <td>IT</td>\n",
       "      <td>Linda</td>\n",
       "      <td>65000</td>\n",
       "      <td>6500</td>\n",
       "    </tr>\n",
       "    <tr>\n",
       "      <th>4</th>\n",
       "      <td>HR</td>\n",
       "      <td>Steve</td>\n",
       "      <td>52000</td>\n",
       "      <td>5200</td>\n",
       "    </tr>\n",
       "    <tr>\n",
       "      <th>5</th>\n",
       "      <td>Finance</td>\n",
       "      <td>Sophia</td>\n",
       "      <td>58000</td>\n",
       "      <td>5800</td>\n",
       "    </tr>\n",
       "    <tr>\n",
       "      <th>6</th>\n",
       "      <td>HR</td>\n",
       "      <td>Mike</td>\n",
       "      <td>51000</td>\n",
       "      <td>5100</td>\n",
       "    </tr>\n",
       "    <tr>\n",
       "      <th>7</th>\n",
       "      <td>IT</td>\n",
       "      <td>Bob</td>\n",
       "      <td>62000</td>\n",
       "      <td>6200</td>\n",
       "    </tr>\n",
       "  </tbody>\n",
       "</table>\n",
       "</div>"
      ],
      "text/plain": [
       "  Department Employee  Salary  Bonus\n",
       "0         HR     John   50000   5000\n",
       "1         IT     Anna   60000   6000\n",
       "2    Finance    Peter   55000   5500\n",
       "3         IT    Linda   65000   6500\n",
       "4         HR    Steve   52000   5200\n",
       "5    Finance   Sophia   58000   5800\n",
       "6         HR     Mike   51000   5100\n",
       "7         IT      Bob   62000   6200"
      ]
     },
     "execution_count": 12,
     "metadata": {},
     "output_type": "execute_result"
    }
   ],
   "source": [
    "import pandas as pd\n",
    "\n",
    "# Sample DataFrame for groupby\n",
    "data = {\n",
    "    'Department': ['HR', 'IT', 'Finance', 'IT', 'HR', 'Finance', 'HR', 'IT'],\n",
    "    'Employee': ['John', 'Anna', 'Peter', 'Linda', 'Steve', 'Sophia', 'Mike', 'Bob'],\n",
    "    'Salary': [50000, 60000, 55000, 65000, 52000, 58000, 51000, 62000],\n",
    "    'Bonus': [5000, 6000, 5500, 6500, 5200, 5800, 5100, 6200]\n",
    "}\n",
    "\n",
    "df=pd.DataFrame(data)\n",
    "df"
   ]
  },
  {
   "cell_type": "markdown",
   "id": "3bb9ae55-ea0e-469e-8341-fc4746777cdf",
   "metadata": {},
   "source": [
    "## Group by Department and calculate sum of sales\n",
    "=> groupby -> creates an obj which we can't see\n",
    "-> to categorical(Qualitative) data not to continuous data(Quantitative)"
   ]
  },
  {
   "cell_type": "code",
   "execution_count": 13,
   "id": "f27cb43f-c8c1-4bdf-873e-d89cf2d233b4",
   "metadata": {},
   "outputs": [
    {
     "name": "stdout",
     "output_type": "stream",
     "text": [
      "Finance\n",
      "  Department Employee  Salary  Bonus\n",
      "2    Finance    Peter   55000   5500\n",
      "5    Finance   Sophia   58000   5800\n",
      "HR\n",
      "  Department Employee  Salary  Bonus\n",
      "0         HR     John   50000   5000\n",
      "4         HR    Steve   52000   5200\n",
      "6         HR     Mike   51000   5100\n",
      "IT\n",
      "  Department Employee  Salary  Bonus\n",
      "1         IT     Anna   60000   6000\n",
      "3         IT    Linda   65000   6500\n",
      "7         IT      Bob   62000   6200\n"
     ]
    }
   ],
   "source": [
    "dept=df.groupby ('Department')\n",
    "dept\n",
    "for i,v in dept:\n",
    "    print(i)\n",
    "    print(v)"
   ]
  },
  {
   "cell_type": "code",
   "execution_count": 14,
   "id": "3694d21d-5cb6-45ae-a96e-a1dcfa36a6ab",
   "metadata": {},
   "outputs": [
    {
     "data": {
      "text/plain": [
       "Department\n",
       "Finance    113000\n",
       "HR         153000\n",
       "IT         187000\n",
       "Name: Salary, dtype: int64"
      ]
     },
     "execution_count": 14,
     "metadata": {},
     "output_type": "execute_result"
    }
   ],
   "source": [
    "dept=df.groupby ('Department') ['Salary'].sum()\n",
    "dept"
   ]
  },
  {
   "cell_type": "code",
   "execution_count": 15,
   "id": "b468e89a-53c7-4bca-8a02-c3e120c3f566",
   "metadata": {},
   "outputs": [
    {
     "data": {
      "text/html": [
       "<div>\n",
       "<style scoped>\n",
       "    .dataframe tbody tr th:only-of-type {\n",
       "        vertical-align: middle;\n",
       "    }\n",
       "\n",
       "    .dataframe tbody tr th {\n",
       "        vertical-align: top;\n",
       "    }\n",
       "\n",
       "    .dataframe thead th {\n",
       "        text-align: right;\n",
       "    }\n",
       "</style>\n",
       "<table border=\"1\" class=\"dataframe\">\n",
       "  <thead>\n",
       "    <tr style=\"text-align: right;\">\n",
       "      <th></th>\n",
       "      <th></th>\n",
       "      <th>Salary</th>\n",
       "      <th>Bonus</th>\n",
       "    </tr>\n",
       "    <tr>\n",
       "      <th>Department</th>\n",
       "      <th>Employee</th>\n",
       "      <th></th>\n",
       "      <th></th>\n",
       "    </tr>\n",
       "  </thead>\n",
       "  <tbody>\n",
       "    <tr>\n",
       "      <th rowspan=\"2\" valign=\"top\">Finance</th>\n",
       "      <th>Peter</th>\n",
       "      <td>55000</td>\n",
       "      <td>5500</td>\n",
       "    </tr>\n",
       "    <tr>\n",
       "      <th>Sophia</th>\n",
       "      <td>58000</td>\n",
       "      <td>5800</td>\n",
       "    </tr>\n",
       "    <tr>\n",
       "      <th rowspan=\"3\" valign=\"top\">HR</th>\n",
       "      <th>John</th>\n",
       "      <td>50000</td>\n",
       "      <td>5000</td>\n",
       "    </tr>\n",
       "    <tr>\n",
       "      <th>Mike</th>\n",
       "      <td>51000</td>\n",
       "      <td>5100</td>\n",
       "    </tr>\n",
       "    <tr>\n",
       "      <th>Steve</th>\n",
       "      <td>52000</td>\n",
       "      <td>5200</td>\n",
       "    </tr>\n",
       "    <tr>\n",
       "      <th rowspan=\"3\" valign=\"top\">IT</th>\n",
       "      <th>Anna</th>\n",
       "      <td>60000</td>\n",
       "      <td>6000</td>\n",
       "    </tr>\n",
       "    <tr>\n",
       "      <th>Bob</th>\n",
       "      <td>62000</td>\n",
       "      <td>6200</td>\n",
       "    </tr>\n",
       "    <tr>\n",
       "      <th>Linda</th>\n",
       "      <td>65000</td>\n",
       "      <td>6500</td>\n",
       "    </tr>\n",
       "  </tbody>\n",
       "</table>\n",
       "</div>"
      ],
      "text/plain": [
       "                     Salary  Bonus\n",
       "Department Employee               \n",
       "Finance    Peter      55000   5500\n",
       "           Sophia     58000   5800\n",
       "HR         John       50000   5000\n",
       "           Mike       51000   5100\n",
       "           Steve      52000   5200\n",
       "IT         Anna       60000   6000\n",
       "           Bob        62000   6200\n",
       "           Linda      65000   6500"
      ]
     },
     "execution_count": 15,
     "metadata": {},
     "output_type": "execute_result"
    }
   ],
   "source": [
    "# Group by multiple columns\n",
    "# Group by Employee and Department\n",
    "cat=df.groupby(['Department','Employee']).sum()\n",
    "cat"
   ]
  },
  {
   "cell_type": "markdown",
   "id": "55cba104-b131-4ecb-a118-a41cc6dc9a66",
   "metadata": {},
   "source": [
    "# Aggregation \n",
    "=> mean\n",
    "=> median\n",
    "=> std.deviation\n",
    "=> maximum"
   ]
  },
  {
   "cell_type": "code",
   "execution_count": 16,
   "id": "ad96cd8a-7b65-4ff9-a20f-0a6dbc24c329",
   "metadata": {},
   "outputs": [
    {
     "data": {
      "text/plain": [
       "np.float64(56625.0)"
      ]
     },
     "execution_count": 16,
     "metadata": {},
     "output_type": "execute_result"
    }
   ],
   "source": [
    "df['Salary'].mean()"
   ]
  },
  {
   "cell_type": "code",
   "execution_count": 19,
   "id": "d6f61329-6cdd-47b0-ab05-b54b5adebec3",
   "metadata": {},
   "outputs": [
    {
     "data": {
      "text/plain": [
       "sum       453000.000000\n",
       "mean       56625.000000\n",
       "median     56500.000000\n",
       "std         5501.623137\n",
       "min        50000.000000\n",
       "max        65000.000000\n",
       "count          8.000000\n",
       "Name: Salary, dtype: float64"
      ]
     },
     "execution_count": 19,
     "metadata": {},
     "output_type": "execute_result"
    }
   ],
   "source": [
    "df['Salary'].agg(['sum','mean','median','std','min','max','count'])"
   ]
  },
  {
   "cell_type": "code",
   "execution_count": null,
   "id": "3599482b-f3ce-49c6-8a42-3e4436a0dbb3",
   "metadata": {},
   "outputs": [],
   "source": []
  }
 ],
 "metadata": {
  "kernelspec": {
   "display_name": "Python [conda env:base] *",
   "language": "python",
   "name": "conda-base-py"
  },
  "language_info": {
   "codemirror_mode": {
    "name": "ipython",
    "version": 3
   },
   "file_extension": ".py",
   "mimetype": "text/x-python",
   "name": "python",
   "nbconvert_exporter": "python",
   "pygments_lexer": "ipython3",
   "version": "3.13.5"
  }
 },
 "nbformat": 4,
 "nbformat_minor": 5
}
